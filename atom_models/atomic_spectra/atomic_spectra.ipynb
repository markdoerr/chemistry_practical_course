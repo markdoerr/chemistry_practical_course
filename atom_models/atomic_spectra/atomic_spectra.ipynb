{
 "cells": [
  {
   "cell_type": "markdown",
   "metadata": {},
   "source": [
    "# Calculation some features of atomic spectra"
   ]
  },
  {
   "cell_type": "markdown",
   "metadata": {},
   "source": [
    "This are some example calculations that illustrate some properties of atomic spectra and their relation to the inner construction of atoms\n"
   ]
  },
  {
   "cell_type": "code",
   "execution_count": null,
   "metadata": {},
   "outputs": [],
   "source": [
    "from scipy.constants import *"
   ]
  },
  {
   "cell_type": "markdown",
   "metadata": {},
   "source": [
    "## Atom spectra and energies in H-Atoms\n",
    "\n",
    "![Visible spectrum of H-Atom](Visible_spectrum_of_hydrogen.jpg \"Visible Spectrum of Hydrogen\")\n",
    "Fig. : Visible spectrum of H-Atom \n",
    "\n",
    "### Electron Transitions\n",
    "![H-electron transitions](Wasserstoff-Termschema.svg)\n",
    "Fig. : Schematic electron transitions in H-atom\n",
    "\n",
    "$\\rightarrow$ __energies of atomic orbitals are (destinct and not continous !!) =  \"qunantized\"__"
   ]
  },
  {
   "cell_type": "markdown",
   "metadata": {},
   "source": [
    "## Speed of light, frequency and wavelength\n",
    "calculation exampel in python\n"
   ]
  },
  {
   "cell_type": "code",
   "execution_count": null,
   "metadata": {},
   "outputs": [],
   "source": [
    "wavelength_blue = 470e-9 # nm"
   ]
  },
  {
   "cell_type": "code",
   "execution_count": null,
   "metadata": {},
   "outputs": [],
   "source": [
    "periode_duration = 1.5625e-15 # s"
   ]
  },
  {
   "cell_type": "code",
   "execution_count": null,
   "metadata": {},
   "outputs": [],
   "source": [
    "frequency = 1 / periode_duration"
   ]
  },
  {
   "cell_type": "code",
   "execution_count": null,
   "metadata": {},
   "outputs": [],
   "source": [
    "frequency # 1/s"
   ]
  },
  {
   "cell_type": "code",
   "execution_count": null,
   "metadata": {},
   "outputs": [],
   "source": [
    "speed_of_light = wavelength_blue * frequency"
   ]
  },
  {
   "cell_type": "code",
   "execution_count": null,
   "metadata": {},
   "outputs": [],
   "source": [
    "speed_of_light"
   ]
  },
  {
   "cell_type": "code",
   "execution_count": null,
   "metadata": {},
   "outputs": [],
   "source": [
    "print( \"speed of light in %.1f m/s \" % c )  "
   ]
  },
  {
   "cell_type": "markdown",
   "metadata": {
    "collapsed": true
   },
   "source": [
    "Relation between Energy and frequency $\\nu$ of light is given by $$ E = h \\cdot \\nu $$ where $$ \\nu = \\frac{1}{\\lambda}\\cdot c $$ $$ \\text{c = speed of light }$$ Example:"
   ]
  },
  {
   "cell_type": "code",
   "execution_count": null,
   "metadata": {},
   "outputs": [],
   "source": [
    "lamda_balmer_alpha = 656.2793e-9 # in m"
   ]
  },
  {
   "cell_type": "code",
   "execution_count": null,
   "metadata": {},
   "outputs": [],
   "source": [
    "nu1 = 1 / lamda_balmer_alpha * c "
   ]
  },
  {
   "cell_type": "code",
   "execution_count": null,
   "metadata": {},
   "outputs": [],
   "source": [
    "print ( \"freq. of balmer alpha line: %s Hz\" % nu1 )"
   ]
  },
  {
   "cell_type": "markdown",
   "metadata": {},
   "source": [
    "or with scipy function lambda2nu()"
   ]
  },
  {
   "cell_type": "code",
   "execution_count": null,
   "metadata": {
    "scrolled": true
   },
   "outputs": [],
   "source": [
    "lambda2nu(lamda_balmer_alpha)"
   ]
  },
  {
   "cell_type": "markdown",
   "metadata": {},
   "source": [
    "## Ionisation energy of H-electron"
   ]
  },
  {
   "cell_type": "code",
   "execution_count": null,
   "metadata": {},
   "outputs": [],
   "source": [
    "lambda_lyman_inf = 91.175e-9 # m"
   ]
  },
  {
   "cell_type": "markdown",
   "metadata": {},
   "source": [
    "corresponding energy"
   ]
  },
  {
   "cell_type": "code",
   "execution_count": null,
   "metadata": {},
   "outputs": [],
   "source": [
    "dE_lyman_inf = h * lambda2nu(lambda_lyman_inf)"
   ]
  },
  {
   "cell_type": "code",
   "execution_count": null,
   "metadata": {},
   "outputs": [],
   "source": [
    "print (\"Energy difference %.2f eV (s. Fig. ) \" % float(dE_lyman_inf/eV))"
   ]
  },
  {
   "cell_type": "markdown",
   "metadata": {},
   "source": [
    "## Rules predicting the H-spectrum\n",
    "\n",
    "*Rydberg generalisation*\n",
    "\n",
    "$$ \\frac{1}{\\lambda} = R \\Big( \\frac{1}{n^{2}_{1}} - \\frac{1}{n^{2}_{2}} \\Big) $$  \n",
    "\n",
    "$$ {\\lambda} = \\frac{1}{ R \\Big( \\frac{1}{n^{2}_{1}} - \\frac{1}{n^{2}_{2}} \\Big) } $$  \n",
    "$\\lambda$ : wavelength , $ R $ : Rydberg constant , $n_{1} = 1, 2, 3, ...  $, $ n_{2} \\geq n_{1} + 1 $\n"
   ]
  },
  {
   "cell_type": "code",
   "execution_count": null,
   "metadata": {},
   "outputs": [],
   "source": [
    "n_1 = 1 #  Lyman series: 1,  Balmer series : 2, Paschen series: 3, ...."
   ]
  },
  {
   "cell_type": "code",
   "execution_count": null,
   "metadata": {},
   "outputs": [],
   "source": [
    "range(n_1+1, 9)"
   ]
  },
  {
   "cell_type": "code",
   "execution_count": null,
   "metadata": {},
   "outputs": [],
   "source": [
    "for n_2 in range(n_1+1, 9) :\n",
    "    \n",
    "    lambda_H = 1/( Rydberg * ( (1/float(n_1)**2)-(1/float(n_2)**2) ) )\n",
    "    \n",
    "    dE_lambda_H = (h * lambda2nu(lambda_H))/eV\n",
    "    \n",
    "    print( \"wavelenth %i : %.3f nm   -  Energy difference: %.3f eV \" % (n_2-2, lambda_H * 1e9, dE_lambda_H) )\n"
   ]
  },
  {
   "cell_type": "markdown",
   "metadata": {},
   "source": [
    "## Spectrum of Na atom\n",
    "![Na-spectrum](SpectrumNa.jpg \"source: http://www.science-projects.com/fes/FlameEmissions.htm\")\n",
    "\n",
    "Energy difference scheme\n",
    "\n",
    "![Electron-transitions in Na](200px-NaD-terms.png)"
   ]
  },
  {
   "cell_type": "code",
   "execution_count": null,
   "metadata": {},
   "outputs": [],
   "source": [
    "lambdaD1 = 588.9950e-9 # in m"
   ]
  },
  {
   "cell_type": "code",
   "execution_count": null,
   "metadata": {},
   "outputs": [],
   "source": [
    "lambdaD2 = 589.5924e-9 # in nm"
   ]
  },
  {
   "cell_type": "markdown",
   "metadata": {},
   "source": [
    "Energy corresponding one line"
   ]
  },
  {
   "cell_type": "code",
   "execution_count": null,
   "metadata": {},
   "outputs": [],
   "source": [
    "dE_D1 = h * lambda2nu(lambdaD1)"
   ]
  },
  {
   "cell_type": "code",
   "execution_count": null,
   "metadata": {},
   "outputs": [],
   "source": [
    "print( \"Energy difference between 3s and 3p orbital %.3f eV\" % (dE_D1/eV) ) "
   ]
  },
  {
   "cell_type": "code",
   "execution_count": null,
   "metadata": {},
   "outputs": [],
   "source": [
    "dE_D2 = h * lambda2nu(lambdaD2)"
   ]
  },
  {
   "cell_type": "code",
   "execution_count": null,
   "metadata": {},
   "outputs": [],
   "source": [
    "delta_D = dE_D1 - dE_D2"
   ]
  },
  {
   "cell_type": "code",
   "execution_count": null,
   "metadata": {},
   "outputs": [],
   "source": [
    "print( \"Energy difference between 3p and 3p orbital: %.4f eV\" % (delta_D/eV) )"
   ]
  },
  {
   "cell_type": "markdown",
   "metadata": {},
   "source": [
    "Interpretation of the two lines: relative orientation of spin to angular momentum of the electron (spin-orbit interaction).\n",
    "\n",
    "\n",
    "Hint: Compare energy differences between different orbitals !"
   ]
  },
  {
   "cell_type": "code",
   "execution_count": null,
   "metadata": {},
   "outputs": [],
   "source": []
  },
  {
   "cell_type": "code",
   "execution_count": null,
   "metadata": {},
   "outputs": [],
   "source": []
  }
 ],
 "metadata": {
  "kernelspec": {
   "display_name": "Python 2",
   "language": "python",
   "name": "python2"
  },
  "language_info": {
   "codemirror_mode": {
    "name": "ipython",
    "version": 3
   },
   "file_extension": ".py",
   "mimetype": "text/x-python",
   "name": "python",
   "nbconvert_exporter": "python",
   "pygments_lexer": "ipython3",
   "version": "3.5.2"
  }
 },
 "nbformat": 4,
 "nbformat_minor": 1
}
